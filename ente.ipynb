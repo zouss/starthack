{
 "metadata": {
  "language_info": {
   "codemirror_mode": {
    "name": "ipython",
    "version": 3
   },
   "file_extension": ".py",
   "mimetype": "text/x-python",
   "name": "python",
   "nbconvert_exporter": "python",
   "pygments_lexer": "ipython3",
   "version": "3.8.5"
  },
  "orig_nbformat": 2,
  "kernelspec": {
   "name": "python3",
   "display_name": "Python 3",
   "language": "python"
  }
 },
 "nbformat": 4,
 "nbformat_minor": 2,
 "cells": [
  {
   "cell_type": "code",
   "execution_count": 57,
   "metadata": {},
   "outputs": [],
   "source": [
    "import pandas as pd\n",
    "import requests\n",
    "import xml.etree.ElementTree as ET\n",
    "from dateutil.parser import parse"
   ]
  },
  {
   "cell_type": "code",
   "execution_count": 3,
   "metadata": {},
   "outputs": [],
   "source": [
    "entso_e_token = 'd9281f86-65db-4158-b487-4eeb317c4f2e'\n",
    "entso_e_url = 'https://transparency.entsoe.eu/api'"
   ]
  },
  {
   "cell_type": "code",
   "execution_count": null,
   "metadata": {},
   "outputs": [],
   "source": []
  },
  {
   "cell_type": "code",
   "execution_count": 156,
   "metadata": {},
   "outputs": [],
   "source": [
    "grid = {\n",
    "    'France, RTE BZ / CA / MBA': '10YFR-RTE------C',\n",
    "    'Denmark': '10Y1001A1001A65H',\n",
    "    'Czech Republic, CEPS BZ / CA/ MBA': '10YCZ-CEPS-----N',\n",
    "    'Poland, PSE SA BZ / BZA / CA / MBA': '10YPL-AREA-----S',\n",
    "    # 'Norway, Norway MBA, Stattnet CA': '10YNO-0--------C',\n",
    "    'Austria, APG CA / MBA': '10YAT-APG------L',\n",
    "    'Luxembourg, CREOS CA': '10YLU-CEGEDEL-NQ',\n",
    "    # 'Belgium, Elia BZ / CA / MBA': '10YBE----------2'\n",
    "    'Netherlands, TenneT NL BZ / CA/ MBA': '10YNL----------L'\n",
    "}"
   ]
  },
  {
   "cell_type": "code",
   "execution_count": 157,
   "metadata": {},
   "outputs": [],
   "source": [
    "def get_germany_inflow(start_year, end_year):\n",
    "\n",
    "    in_data = pd.DataFrame()\n",
    "    for grid_elem in grid.keys():\n",
    "        grid_elem_data = pd.DataFrame()\n",
    "        for year in list(range(start_year, end_year+1)):\n",
    "            params = {\n",
    "                'securityToken': entso_e_token,\n",
    "                'documentType': 'A11',\n",
    "                'in_Domain': '10Y1001A1001A83F',\n",
    "                'out_Domain': grid[grid_elem],\n",
    "                'periodStart': '{}01010000'.format(year),\n",
    "                'periodEnd': '{}01010000'.format(year+1)\n",
    "            }\n",
    "\n",
    "            r = requests.get(entso_e_url, params)\n",
    "            root = ET.fromstring(r.content)\n",
    "\n",
    "            code = '{urn:iec62325.351:tc57wg16:451-3:publicationdocument:7:0}'\n",
    "            for ts in root.findall(code+'TimeSeries'):\n",
    "                start = ts.find(code+'Period').find(code+'timeInterval').find(code+'start').text\n",
    "                end = ts.find(code+'Period').find(code+'timeInterval').find(code+'end').text\n",
    "                points = ts.find(code+'Period').findall(code+'Point')\n",
    "                df = pd.DataFrame(\n",
    "                    [int(pt.find(code+'quantity').text) for pt in points],\n",
    "                    index=pd.date_range(start=parse(start), end=parse(end), freq='1H', closed='left'),\n",
    "                    columns=[grid_elem]\n",
    "                )\n",
    "                grid_elem_data = pd.concat([grid_elem_data, df], axis=0, verify_integrity=True)\n",
    "\n",
    "        in_data = pd.concat([in_data, grid_elem_data], axis=1, verify_integrity=True)\n",
    "    \n",
    "    return in_data"
   ]
  },
  {
   "cell_type": "code",
   "execution_count": 160,
   "metadata": {},
   "outputs": [
    {
     "output_type": "execute_result",
     "data": {
      "text/plain": [
       "                           France, RTE BZ / CA / MBA  Denmark  \\\n",
       "2021-01-01 00:00:00+00:00                          0     2701   \n",
       "2021-01-01 01:00:00+00:00                          0     2473   \n",
       "2021-01-01 02:00:00+00:00                         40     2406   \n",
       "2021-01-01 03:00:00+00:00                        437     2328   \n",
       "2021-01-01 04:00:00+00:00                        158     2306   \n",
       "...                                              ...      ...   \n",
       "2021-03-20 12:00:00+00:00                        225     1784   \n",
       "2021-03-20 13:00:00+00:00                        569     1725   \n",
       "2021-03-20 14:00:00+00:00                       1217     1628   \n",
       "2021-03-20 15:00:00+00:00                       1746     1825   \n",
       "2021-03-20 16:00:00+00:00                       1474     1037   \n",
       "\n",
       "                           Czech Republic, CEPS BZ / CA/ MBA  \\\n",
       "2021-01-01 00:00:00+00:00                               2165   \n",
       "2021-01-01 01:00:00+00:00                               2070   \n",
       "2021-01-01 02:00:00+00:00                               2305   \n",
       "2021-01-01 03:00:00+00:00                               2362   \n",
       "2021-01-01 04:00:00+00:00                               2317   \n",
       "...                                                      ...   \n",
       "2021-03-20 12:00:00+00:00                                  0   \n",
       "2021-03-20 13:00:00+00:00                                  0   \n",
       "2021-03-20 14:00:00+00:00                                  2   \n",
       "2021-03-20 15:00:00+00:00                                146   \n",
       "2021-03-20 16:00:00+00:00                                333   \n",
       "\n",
       "                           Poland, PSE SA BZ / BZA / CA / MBA  \\\n",
       "2021-01-01 00:00:00+00:00                                   0   \n",
       "2021-01-01 01:00:00+00:00                                   0   \n",
       "2021-01-01 02:00:00+00:00                                   0   \n",
       "2021-01-01 03:00:00+00:00                                   0   \n",
       "2021-01-01 04:00:00+00:00                                   0   \n",
       "...                                                       ...   \n",
       "2021-03-20 12:00:00+00:00                                   0   \n",
       "2021-03-20 13:00:00+00:00                                   0   \n",
       "2021-03-20 14:00:00+00:00                                   0   \n",
       "2021-03-20 15:00:00+00:00                                   0   \n",
       "2021-03-20 16:00:00+00:00                                   0   \n",
       "\n",
       "                           Austria, APG CA / MBA  Luxembourg, CREOS CA  \\\n",
       "2021-01-01 00:00:00+00:00                    846                     0   \n",
       "2021-01-01 01:00:00+00:00                    948                     0   \n",
       "2021-01-01 02:00:00+00:00                    951                     0   \n",
       "2021-01-01 03:00:00+00:00                    910                     0   \n",
       "2021-01-01 04:00:00+00:00                    877                     0   \n",
       "...                                          ...                   ...   \n",
       "2021-03-20 12:00:00+00:00                      8                     0   \n",
       "2021-03-20 13:00:00+00:00                     24                     0   \n",
       "2021-03-20 14:00:00+00:00                     44                     0   \n",
       "2021-03-20 15:00:00+00:00                     20                     0   \n",
       "2021-03-20 16:00:00+00:00                     10                     0   \n",
       "\n",
       "                           Netherlands, TenneT NL BZ / CA/ MBA  \n",
       "2021-01-01 00:00:00+00:00                                    0  \n",
       "2021-01-01 01:00:00+00:00                                    0  \n",
       "2021-01-01 02:00:00+00:00                                    0  \n",
       "2021-01-01 03:00:00+00:00                                    0  \n",
       "2021-01-01 04:00:00+00:00                                    0  \n",
       "...                                                        ...  \n",
       "2021-03-20 12:00:00+00:00                                 2434  \n",
       "2021-03-20 13:00:00+00:00                                 2131  \n",
       "2021-03-20 14:00:00+00:00                                 2036  \n",
       "2021-03-20 15:00:00+00:00                                 1799  \n",
       "2021-03-20 16:00:00+00:00                                 1494  \n",
       "\n",
       "[1889 rows x 7 columns]"
      ],
      "text/html": "<div>\n<style scoped>\n    .dataframe tbody tr th:only-of-type {\n        vertical-align: middle;\n    }\n\n    .dataframe tbody tr th {\n        vertical-align: top;\n    }\n\n    .dataframe thead th {\n        text-align: right;\n    }\n</style>\n<table border=\"1\" class=\"dataframe\">\n  <thead>\n    <tr style=\"text-align: right;\">\n      <th></th>\n      <th>France, RTE BZ / CA / MBA</th>\n      <th>Denmark</th>\n      <th>Czech Republic, CEPS BZ / CA/ MBA</th>\n      <th>Poland, PSE SA BZ / BZA / CA / MBA</th>\n      <th>Austria, APG CA / MBA</th>\n      <th>Luxembourg, CREOS CA</th>\n      <th>Netherlands, TenneT NL BZ / CA/ MBA</th>\n    </tr>\n  </thead>\n  <tbody>\n    <tr>\n      <th>2021-01-01 00:00:00+00:00</th>\n      <td>0</td>\n      <td>2701</td>\n      <td>2165</td>\n      <td>0</td>\n      <td>846</td>\n      <td>0</td>\n      <td>0</td>\n    </tr>\n    <tr>\n      <th>2021-01-01 01:00:00+00:00</th>\n      <td>0</td>\n      <td>2473</td>\n      <td>2070</td>\n      <td>0</td>\n      <td>948</td>\n      <td>0</td>\n      <td>0</td>\n    </tr>\n    <tr>\n      <th>2021-01-01 02:00:00+00:00</th>\n      <td>40</td>\n      <td>2406</td>\n      <td>2305</td>\n      <td>0</td>\n      <td>951</td>\n      <td>0</td>\n      <td>0</td>\n    </tr>\n    <tr>\n      <th>2021-01-01 03:00:00+00:00</th>\n      <td>437</td>\n      <td>2328</td>\n      <td>2362</td>\n      <td>0</td>\n      <td>910</td>\n      <td>0</td>\n      <td>0</td>\n    </tr>\n    <tr>\n      <th>2021-01-01 04:00:00+00:00</th>\n      <td>158</td>\n      <td>2306</td>\n      <td>2317</td>\n      <td>0</td>\n      <td>877</td>\n      <td>0</td>\n      <td>0</td>\n    </tr>\n    <tr>\n      <th>...</th>\n      <td>...</td>\n      <td>...</td>\n      <td>...</td>\n      <td>...</td>\n      <td>...</td>\n      <td>...</td>\n      <td>...</td>\n    </tr>\n    <tr>\n      <th>2021-03-20 12:00:00+00:00</th>\n      <td>225</td>\n      <td>1784</td>\n      <td>0</td>\n      <td>0</td>\n      <td>8</td>\n      <td>0</td>\n      <td>2434</td>\n    </tr>\n    <tr>\n      <th>2021-03-20 13:00:00+00:00</th>\n      <td>569</td>\n      <td>1725</td>\n      <td>0</td>\n      <td>0</td>\n      <td>24</td>\n      <td>0</td>\n      <td>2131</td>\n    </tr>\n    <tr>\n      <th>2021-03-20 14:00:00+00:00</th>\n      <td>1217</td>\n      <td>1628</td>\n      <td>2</td>\n      <td>0</td>\n      <td>44</td>\n      <td>0</td>\n      <td>2036</td>\n    </tr>\n    <tr>\n      <th>2021-03-20 15:00:00+00:00</th>\n      <td>1746</td>\n      <td>1825</td>\n      <td>146</td>\n      <td>0</td>\n      <td>20</td>\n      <td>0</td>\n      <td>1799</td>\n    </tr>\n    <tr>\n      <th>2021-03-20 16:00:00+00:00</th>\n      <td>1474</td>\n      <td>1037</td>\n      <td>333</td>\n      <td>0</td>\n      <td>10</td>\n      <td>0</td>\n      <td>1494</td>\n    </tr>\n  </tbody>\n</table>\n<p>1889 rows × 7 columns</p>\n</div>"
     },
     "metadata": {},
     "execution_count": 160
    }
   ],
   "source": [
    "get_germany_inflow(2021, 2021)"
   ]
  }
 ]
}